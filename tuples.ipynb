{
 "cells": [
  {
   "cell_type": "markdown",
   "id": "2e34882e",
   "metadata": {},
   "source": [
    "# Python Tuples Tutorial\n",
    "\n",
    "This notebook covers comprehensive tuple operations in Python including creation, accessing elements, methods, concatenation, and conversions.\n"
   ]
  },
  {
   "cell_type": "markdown",
   "id": "a653d895",
   "metadata": {},
   "source": [
    "## Tuple Basics\n"
   ]
  },
  {
   "cell_type": "code",
   "execution_count": null,
   "id": "9103869d",
   "metadata": {},
   "outputs": [],
   "source": [
    "my_tuple = ('orange', 'mango', 'banana', 'apple')\n",
    "print(\"\\n--- Tuple Basics ---\")\n",
    "print(my_tuple)\n",
    "print(type(my_tuple))\n",
    "print(len(my_tuple))"
   ]
  },
  {
   "cell_type": "markdown",
   "id": "d39b7113",
   "metadata": {},
   "source": [
    "## Accessing Tuple Elements\n"
   ]
  },
  {
   "cell_type": "code",
   "execution_count": null,
   "id": "c62eb5ec",
   "metadata": {},
   "outputs": [],
   "source": [
    "print(\"\\n--- Accessing Elements ---\")\n",
    "print(my_tuple[0])\n",
    "print(my_tuple[-1])\n",
    "print(my_tuple[1:3])"
   ]
  },
  {
   "cell_type": "markdown",
   "id": "31d1b0b9",
   "metadata": {},
   "source": [
    "## Modifying Tuples (Converting to List and Back)\n"
   ]
  },
  {
   "cell_type": "code",
   "execution_count": null,
   "id": "bde76ba2",
   "metadata": {},
   "outputs": [],
   "source": [
    "duplicat_list = list(my_tuple)\n",
    "\n",
    "duplicat_list.append('kiwi')\n",
    "duplicat_list.insert(0, 'xyz')\n",
    "\n",
    "updated_tuple = tuple(duplicat_list)\n",
    "print(updated_tuple)"
   ]
  },
  {
   "cell_type": "markdown",
   "id": "3b928f9a",
   "metadata": {},
   "source": [
    "## Tuple Methods\n"
   ]
  },
  {
   "cell_type": "code",
   "execution_count": null,
   "id": "b2a9a1a0",
   "metadata": {},
   "outputs": [],
   "source": [
    "print(\"\\n--- Tuple Methods ---\")\n",
    "repeated_tuple = (1, 2, 3, 1, 2, 1)\n",
    "print(repeated_tuple.count(1))\n",
    "print(repeated_tuple.index(2))"
   ]
  },
  {
   "cell_type": "markdown",
   "id": "dd59311d",
   "metadata": {},
   "source": [
    "## Tuple Concatenation\n"
   ]
  },
  {
   "cell_type": "code",
   "execution_count": null,
   "id": "53141a0c",
   "metadata": {},
   "outputs": [],
   "source": [
    "print(\"\\n--- Tuple Concatenation ---\")\n",
    "tuple1 = (1, 2, 3)\n",
    "tuple2 = ('a', 'b', 'c')\n",
    "combined = tuple1 + tuple2\n",
    "print(combined)"
   ]
  },
  {
   "cell_type": "markdown",
   "id": "2885d811",
   "metadata": {},
   "source": [
    "## Nested Tuples\n"
   ]
  },
  {
   "cell_type": "code",
   "execution_count": null,
   "id": "707b9176",
   "metadata": {},
   "outputs": [],
   "source": [
    "print(\"\\n--- Nested Tuples ---\")\n",
    "nested = ((1, 2), ('a', 'b'), (True, False))\n",
    "print(nested)\n",
    "print(nested[1][0])"
   ]
  },
  {
   "cell_type": "markdown",
   "id": "b6fa3c88",
   "metadata": {},
   "source": [
    "## Type Conversions\n"
   ]
  },
  {
   "cell_type": "code",
   "execution_count": null,
   "id": "4b9fc1bd",
   "metadata": {},
   "outputs": [],
   "source": [
    "print(\"\\n--- Conversions ---\")\n",
    "list_to_convert = ['one', 'two', 'three']\n",
    "\n",
    "converted_tuple = tuple(list_to_convert)\n",
    "print(f\"List {list_to_convert} converted to tuple: {converted_tuple}\")\n",
    "back_to_list = list(converted_tuple)\n",
    "print(f\"Tuple converted back to list: {back_to_list}\")"
   ]
  },
  {
   "cell_type": "markdown",
   "id": "7b048c9a",
   "metadata": {},
   "source": [
    "## Printing Tuple Elements\n"
   ]
  },
  {
   "cell_type": "code",
   "execution_count": null,
   "id": "134efa29",
   "metadata": {},
   "outputs": [],
   "source": [
    "print(\"\\n--- Printing Tuple Elements Line by Line ---\")\n",
    "print(*my_tuple, sep='\\n')"
   ]
  }
 ],
 "metadata": {
  "language_info": {
   "name": "python"
  }
 },
 "nbformat": 4,
 "nbformat_minor": 5
}
