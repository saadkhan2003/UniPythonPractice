{
 "cells": [
  {
   "cell_type": "markdown",
   "id": "5ca4f73d",
   "metadata": {},
   "source": [
    "# Python Basics - Data Types and Type Conversion\n",
    "\n",
    "This notebook covers Python basic data types, type checking, type conversion, and user input handling."
   ]
  },
  {
   "cell_type": "markdown",
   "id": "d03ab057",
   "metadata": {},
   "source": [
    "## Basic Data Types"
   ]
  },
  {
   "cell_type": "code",
   "execution_count": null,
   "id": "0e5e3d2c",
   "metadata": {},
   "outputs": [],
   "source": [
    "a = 5 \n",
    "print(a)\n",
    "print(type(a))"
   ]
  },
  {
   "cell_type": "code",
   "execution_count": null,
   "id": "56641e90",
   "metadata": {},
   "outputs": [],
   "source": [
    "b = 3j\n",
    "print(b)\n",
    "print(type(b))"
   ]
  },
  {
   "cell_type": "code",
   "execution_count": null,
   "id": "1172ea0b",
   "metadata": {},
   "outputs": [],
   "source": [
    "c = 222.22\n",
    "print(c)\n",
    "print(type(c))"
   ]
  },
  {
   "cell_type": "code",
   "execution_count": null,
   "id": "a32e0dbb",
   "metadata": {},
   "outputs": [],
   "source": [
    "d = \"hello world\"\n",
    "print(d)\n",
    "print(type(d))"
   ]
  },
  {
   "cell_type": "code",
   "execution_count": null,
   "id": "072e18fa",
   "metadata": {},
   "outputs": [],
   "source": [
    "e = True\n",
    "print(e)\n",
    "print(type(e))"
   ]
  },
  {
   "cell_type": "code",
   "execution_count": null,
   "id": "2b7ea3d3",
   "metadata": {},
   "outputs": [],
   "source": [
    "f = False\n",
    "print(f)\n",
    "print(type(f))"
   ]
  },
  {
   "cell_type": "code",
   "execution_count": null,
   "id": "2f510dbc",
   "metadata": {},
   "outputs": [],
   "source": [
    "g = None\n",
    "print(g)\n",
    "print(type(g))"
   ]
  },
  {
   "cell_type": "code",
   "execution_count": null,
   "id": "6a856260",
   "metadata": {},
   "outputs": [],
   "source": [
    "h = [1, 2, 3, 4, 5]\n",
    "print(h)\n",
    "print(type(h))\n",
    "\n",
    "print('\\n')"
   ]
  },
  {
   "cell_type": "markdown",
   "id": "869e0783",
   "metadata": {},
   "source": [
    "## Type Conversion"
   ]
  },
  {
   "cell_type": "code",
   "execution_count": null,
   "id": "887344f6",
   "metadata": {},
   "outputs": [],
   "source": [
    "d = int(c)\n",
    "print(d)\n",
    "print(type(d))"
   ]
  },
  {
   "cell_type": "code",
   "execution_count": null,
   "id": "d9d3f995",
   "metadata": {},
   "outputs": [],
   "source": [
    "e = float(a)\n",
    "print(e)    \n",
    "print(type(e))\n",
    "\n",
    "print('\\n')"
   ]
  },
  {
   "cell_type": "code",
   "execution_count": null,
   "id": "e0c4e52e",
   "metadata": {},
   "outputs": [],
   "source": [
    "cc = complex(a)\n",
    "print(cc)\n",
    "print(type(cc))"
   ]
  },
  {
   "cell_type": "markdown",
   "id": "30c4f57b",
   "metadata": {},
   "source": [
    "## User Input and Basic Operations"
   ]
  },
  {
   "cell_type": "code",
   "execution_count": null,
   "id": "46a2fcd5",
   "metadata": {},
   "outputs": [],
   "source": [
    "aa = input(\"Enter a number: \")\n",
    "ss = int(aa)\n",
    "print(ss+5)\n",
    "\n",
    "print('\\n')"
   ]
  },
  {
   "cell_type": "code",
   "execution_count": null,
   "id": "1101f24b",
   "metadata": {},
   "outputs": [],
   "source": [
    "bb = input(\"Enter a number: \")\n",
    "kk = int(bb)\n",
    "print(kk%5)\n",
    "\n",
    "print('\\n')"
   ]
  },
  {
   "cell_type": "code",
   "execution_count": null,
   "id": "5be099e6",
   "metadata": {},
   "outputs": [],
   "source": [
    "dd = input(\"Enter a number: \")\n",
    "mm = int(dd)\n",
    "print(mm/5)"
   ]
  },
  {
   "cell_type": "code",
   "execution_count": null,
   "id": "fd2cc00a",
   "metadata": {},
   "outputs": [],
   "source": [
    "ff = input(\"Enter a number: \")\n",
    "nn = int(ff)\n",
    "print(nn*5)"
   ]
  }
 ],
 "metadata": {
  "language_info": {
   "name": "python"
  }
 },
 "nbformat": 4,
 "nbformat_minor": 5
}
