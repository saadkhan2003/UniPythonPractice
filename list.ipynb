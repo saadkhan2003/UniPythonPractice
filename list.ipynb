{
 "cells": [
  {
   "cell_type": "markdown",
   "id": "5ea96e51",
   "metadata": {},
   "source": [
    "# Python Lists Tutorial\n",
    "\n",
    "This notebook demonstrates various operations with Python lists including creation, indexing, slicing, and methods.\n"
   ]
  },
  {
   "cell_type": "markdown",
   "id": "e6e02e89",
   "metadata": {},
   "source": [
    "## Creating Lists\n"
   ]
  },
  {
   "cell_type": "code",
   "execution_count": 7,
   "id": "74e51623",
   "metadata": {},
   "outputs": [
    {
     "name": "stdout",
     "output_type": "stream",
     "text": [
      "['orange', 'mango', 'banana', 'apple']\n",
      "<class 'list'>\n"
     ]
    }
   ],
   "source": [
    "my_list = ['orange', 'mango', 'banana', 'apple']\n",
    "print(my_list)\n",
    "print(type(my_list))"
   ]
  },
  {
   "cell_type": "markdown",
   "id": "69666454",
   "metadata": {},
   "source": [
    "## List Slicing\n"
   ]
  },
  {
   "cell_type": "code",
   "execution_count": 8,
   "id": "6e05362b",
   "metadata": {},
   "outputs": [
    {
     "name": "stdout",
     "output_type": "stream",
     "text": [
      "['apple']\n"
     ]
    }
   ],
   "source": [
    "print(my_list[3:5])"
   ]
  },
  {
   "cell_type": "markdown",
   "id": "0dbe2ed3",
   "metadata": {},
   "source": [
    "## Creating and Concatenating Lists\n"
   ]
  },
  {
   "cell_type": "code",
   "execution_count": 9,
   "id": "b6e14baa",
   "metadata": {},
   "outputs": [
    {
     "name": "stdout",
     "output_type": "stream",
     "text": [
      "orange\n",
      "mango\n",
      "banana\n",
      "apple\n",
      "two\n",
      "three\n"
     ]
    }
   ],
   "source": [
    "my_list2 = ['two','three']\n",
    "\n",
    "print(*(my_list + my_list2), sep ='\\n')"
   ]
  },
  {
   "cell_type": "markdown",
   "id": "6f03122f",
   "metadata": {},
   "source": [
    "## Adding Elements to Lists\n"
   ]
  },
  {
   "cell_type": "code",
   "execution_count": 10,
   "id": "7dcfdf83",
   "metadata": {},
   "outputs": [],
   "source": [
    "my_list2.append('five')\n",
    "\n",
    "my_list2.insert(0, 'one')\n",
    "my_list2.insert(1, 'two')"
   ]
  },
  {
   "cell_type": "markdown",
   "id": "42d56266",
   "metadata": {},
   "source": [
    "## List Methods - Count and Index\n"
   ]
  },
  {
   "cell_type": "code",
   "execution_count": 11,
   "id": "a91d5796",
   "metadata": {},
   "outputs": [
    {
     "name": "stdout",
     "output_type": "stream",
     "text": [
      "1\n",
      "1\n",
      "2\n",
      "4\n"
     ]
    }
   ],
   "source": [
    "print (my_list2.count('five'))\n",
    "print (my_list2.count('one'))\n",
    "print (my_list2.count('two'))\n",
    "\n",
    "print (my_list2.index('five'))"
   ]
  },
  {
   "cell_type": "markdown",
   "id": "c86f2cf4",
   "metadata": {},
   "source": [
    "## Extending Lists\n"
   ]
  },
  {
   "cell_type": "code",
   "execution_count": 12,
   "id": "494d7f01",
   "metadata": {},
   "outputs": [
    {
     "name": "stdout",
     "output_type": "stream",
     "text": [
      "['orange', 'mango', 'banana', 'apple', 'one', 'two', 'two', 'three', 'five']\n"
     ]
    }
   ],
   "source": [
    "my_list.extend(my_list2)\n",
    "print(my_list)"
   ]
  }
 ],
 "metadata": {
  "kernelspec": {
   "display_name": "Python_Codanics",
   "language": "python",
   "name": "python3"
  },
  "language_info": {
   "codemirror_mode": {
    "name": "ipython",
    "version": 3
   },
   "file_extension": ".py",
   "mimetype": "text/x-python",
   "name": "python",
   "nbconvert_exporter": "python",
   "pygments_lexer": "ipython3",
   "version": "3.12.9"
  }
 },
 "nbformat": 4,
 "nbformat_minor": 5
}
