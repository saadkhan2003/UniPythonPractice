{
 "cells": [
  {
   "cell_type": "markdown",
   "id": "a26360d3",
   "metadata": {},
   "source": [
    "# Python Sets Tutorial\n",
    "\n",
    "This notebook covers comprehensive set operations in Python including creation, modification, set operations, and frozensets.\n"
   ]
  },
  {
   "cell_type": "markdown",
   "id": "7c0daade",
   "metadata": {},
   "source": [
    "## Creating Sets\n"
   ]
  },
  {
   "cell_type": "code",
   "execution_count": null,
   "id": "c7686f28",
   "metadata": {},
   "outputs": [],
   "source": [
    "# Creating sets\n",
    "print(\"\\n--- Creating Sets ---\")\n",
    "set1 = {1, 2, 3, 4}\n",
    "set2 = set([\"apple\", \"banana\", \"cherry\"])\n",
    "empty_set = set()  # Note: {} creates a dictionary, not a set\n",
    "print(f\"Set1: {set1}\")\n",
    "print(f\"Set2: {set2}\")\n",
    "print(f\"Empty Set: {empty_set}\")"
   ]
  },
  {
   "cell_type": "markdown",
   "id": "18721d6f",
   "metadata": {},
   "source": [
    "## Adding Elements to Sets\n"
   ]
  },
  {
   "cell_type": "code",
   "execution_count": null,
   "id": "73b42dab",
   "metadata": {},
   "outputs": [],
   "source": [
    "# Adding elements to a set\n",
    "print(\"\\n--- Adding Elements ---\")\n",
    "set1.add(5)\n",
    "set1.update([6, 7, 8])  # Adding multiple elements\n",
    "print(f\"Set1 after adding elements: {set1}\")"
   ]
  },
  {
   "cell_type": "markdown",
   "id": "1a020034",
   "metadata": {},
   "source": [
    "## Removing Elements from Sets\n"
   ]
  },
  {
   "cell_type": "code",
   "execution_count": null,
   "id": "b1993bc3",
   "metadata": {},
   "outputs": [],
   "source": [
    "# Removing elements from a set\n",
    "print(\"\\n--- Removing Elements ---\")\n",
    "set1.discard(8)  # Removes 8 if it exists, no error if it doesn't\n",
    "set1.remove(7)   # Removes 7, raises KeyError if it doesn't exist\n",
    "print(f\"Set1 after removing elements: {set1}\")"
   ]
  },
  {
   "cell_type": "markdown",
   "id": "c2ab5dd9",
   "metadata": {},
   "source": [
    "## Accessing Elements in Sets\n"
   ]
  },
  {
   "cell_type": "code",
   "execution_count": null,
   "id": "55134009",
   "metadata": {},
   "outputs": [],
   "source": [
    "# Accessing elements in a set\n",
    "print(\"\\n--- Accessing Elements ---\")\n",
    "for item in set2:\n",
    "    print(item)"
   ]
  },
  {
   "cell_type": "markdown",
   "id": "0e7f96c7",
   "metadata": {},
   "source": [
    "## Set Operations\n"
   ]
  },
  {
   "cell_type": "code",
   "execution_count": null,
   "id": "91354f77",
   "metadata": {},
   "outputs": [],
   "source": [
    "# Set operations\n",
    "print(\"\\n--- Set Operations ---\")\n",
    "set_a = {1, 2, 3, 4}\n",
    "set_b = {3, 4, 5, 6}\n",
    "print(f\"Union: {set_a | set_b}\")  # Union\n",
    "print(f\"Intersection: {set_a & set_b}\")  # Intersection\n",
    "print(f\"Difference (A - B): {set_a - set_b}\")  # Difference"
   ]
  },
  {
   "cell_type": "markdown",
   "id": "a599f851",
   "metadata": {},
   "source": [
    "## Clearing Sets\n"
   ]
  },
  {
   "cell_type": "code",
   "execution_count": null,
   "id": "b57812a4",
   "metadata": {},
   "outputs": [],
   "source": [
    "# Clearing a set\n",
    "print(\"\\n--- Clearing a Set ---\")\n",
    "set1.clear()\n",
    "print(f\"Set1 after clearing: {set1}\")"
   ]
  },
  {
   "cell_type": "markdown",
   "id": "e16d2dfa",
   "metadata": {},
   "source": [
    "## Frozensets (Immutable Sets)\n"
   ]
  },
  {
   "cell_type": "code",
   "execution_count": null,
   "id": "aebfea45",
   "metadata": {},
   "outputs": [],
   "source": [
    "# Set immutability with frozenset\n",
    "print(\"\\n--- Frozenset (Immutable Set) ---\")\n",
    "frozen = frozenset([1, 2, 3])\n",
    "print(f\"Frozenset: {frozen}\")\n",
    "# frozen.add(4)  # This will raise an AttributeError since frozensets are immutable"
   ]
  }
 ],
 "metadata": {
  "language_info": {
   "name": "python"
  }
 },
 "nbformat": 4,
 "nbformat_minor": 5
}
